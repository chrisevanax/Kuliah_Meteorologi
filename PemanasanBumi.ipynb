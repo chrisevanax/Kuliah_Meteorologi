{
 "cells": [
  {
   "cell_type": "markdown",
   "metadata": {},
   "source": [
    "# Pemanasan Bumi\n",
    "\n",
    "Pada minggu ke 2 akan diterangkan mengenai \n",
    "- Temperatur dan Transfer Panas di Atmosfer\n",
    "- Aksi keseimbangan, Absorbsi-Emisi dan kesetimbangan\n",
    "- Mengapa ada banyak musim di Bumi\n",
    "\n",
    "[![Geostrom](https://img.youtube.com/vi/wDNAzi1XUVs/0.jpg)](https://www.youtube.com/watch?v=wDNAzi1XUVs)"
   ]
  },
  {
   "cell_type": "markdown",
   "metadata": {},
   "source": [
    "Akan dimulai dengan konsep tentang energi dan tranfer panas, sehingga diharapkan dapat menjelaskan darimana sumber pemanasan atau pendinginan atmosfer bumi. Selanjutnya akan diterangkan bagaimana dinamika dari revolusi dan rotasi bumi sehingga membagi energi panas matahari dan menjadikan bumi memiliki musim-musim yang periodik."
   ]
  },
  {
   "cell_type": "markdown",
   "metadata": {},
   "source": [
    "## Suhu dan Perpindahan Panas\n",
    "\n",
    "Suhu merupakan besaran rata-rata energi kinetik yang dimiliki seluruh atom-atom dan molekul di udara. Singkatnya, temperatur/suhu adalah mengukur kecepatan rerata (rerata gerak) atom-atom dan molekul-molekul, yang mana temperatur tinggi berasosiasi dengan kecepatan rerata yang lebih besar. \n",
    "\n",
    "![kinetic](http://www.astronomynotes.com/solarsys/tempsped.gif)\n",
    "\n",
    "Udara yang dipanaskan akan memiliki energi kinetik sehingga akan mengembang dan kerapatannya menjadi lebih rendah. Panas adalah energi yang sedang berpindah dari satu benda ke benda lainnya karena ada perbedaan suhu antara keduanya. Pada suhu 0K, secara teoritis tidak ada pergerakan molekul karena panas.\n",
    "\n",
    "### Skala Suhu\n",
    "\n",
    "Skala suhu yang digunakan dalam meteorologi adalah Celsius (penggunaan secara umum), Fahrenheit (digunakan di USA dan Kanada), serta Kelvin (diperkenalkan oleh Lord Kelvin (1824-1907)) (untuk keperluan komputasi dan saintifik, karena tidak memiliki nilai negatif). Konversi dari satu skala temperatur menjadi ke skala temperatur yang lain diberikan oleh persamaan berikut : \n",
    "\n",
    "$ ^oC=\\frac{5}{9} (^oF-32)$\n",
    "\n",
    "$K=^oC+273.15$\n",
    "\n",
    "$^oF=\\frac{9}{5} ^oC+32$\n",
    "\n",
    "$^oF=\\frac{9}{5}(K-273.15)+32$\n",
    "\n",
    "![konversi](https://www.teawea.com/wp-content/uploads/tempconvert.jpg)"
   ]
  },
  {
   "cell_type": "markdown",
   "metadata": {},
   "source": [
    "Dengan Python kita dengan mudah dapat membuat script untuk melakukan konversi suhu"
   ]
  },
  {
   "cell_type": "code",
   "execution_count": 8,
   "metadata": {},
   "outputs": [
    {
     "name": "stdin",
     "output_type": "stream",
     "text": [
      "Masukkan temperatur dalam Fahrenheit 40\n"
     ]
    },
    {
     "name": "stdout",
     "output_type": "stream",
     "text": [
      "Temperature: 40 Fahrenheit sama dengan  4.444444444444445 C\n"
     ]
    }
   ],
   "source": [
    "Fahrenheit = int(input(\"Masukkan temperatur dalam Fahrenheit\"))\n",
    "Celsius = (Fahrenheit-32)* 5.0/9.0\n",
    "print(\"Temperature:\", Fahrenheit, \"Fahrenheit sama dengan \", Celsius, \"C\")"
   ]
  },
  {
   "cell_type": "markdown",
   "metadata": {},
   "source": [
    "\n",
    "\n",
    "### Panas Laten\n",
    "\n",
    "Panas yang diperlukan untuk mengubah wujud benda tanpa mengubah suhunya disebut panas laten. Ketika uap berkondensasi menjadi awan, suhu uap tetap, tetapi akan ada energi panas (laten) yang dikeluarkan ke lingkugan. Diperlukan sekitar 600 kalori untuk menguapkan satu gram air pada suhu ruang. Pada saat awan terbentuk, maka atmosfer akan terpanaskan, dan di dalam proses pembentukan badai hujan ini terbetuklah titik-titik ari dan kristal es. Apabila panas laten yang dimiliki awan tersebut > 2500 J/kg, maka hal ini akan menimbulkan potensi badai petir dan puting beliung.\n",
    "\n",
    "\n",
    "![heat_laten](https://s3.amazonaws.com/ai2-vision-textbook-dataset/dataset_releases/rc2/val/question_images/evaporation_and_sublimation_6876.png)\n",
    "\n",
    "Saat ini proses pembentukan awan yang kompleks dapat dimodelkan tentu saja dengan menyederhanakan permasalahan serta mekanismenya. Dalam jurnal JGR 2018, peneliti dari Universitas Utah berhasil memodelkan dengan konsep termodinamika sederhana. Papernya dapat didownload [disini](https://arxiv.org/pdf/1803.08897.pdf). \n",
    "\n",
    "![pembentukan](https://3c1703fe8d.site.internapcdn.net/newman/csz/news/800/2018/cloudformati.gif)\n",
    "\n",
    "Dalam meteorologi, fenomena perpindahan panas dapat dijelaskan dengan beberapa point dibawah ini:\n",
    "\n",
    "### Konduksi\n",
    "Adalah peristiwa perpindahan panas dari molekul satu ke molekul lainnya pada satu benda. Konduksi diakibatkan oleh merambatnya energi getaran dari molekul yang dipanaskan ke molekul yang lebih dingin. Jika perbedaan suhu besar, maka perpindahan energi panas akan lebih cepat. Udara merupakan konduktor yang buruk; panas dari permukaan bumi hanya merambat beberapa cm saja ke lapisan udara di atasnya (jika konveksi tidak terjadi).\n",
    "### Konveksi\n",
    "Konveksi adalah peristiwa perpindahan panas ke arah vertikal karena pergerakan fluida secara massal. Konveksi pada udara dimulai ketika udara dipanaskan oleh permukaan bumi dan matahari. Udara di suatu daerah lebih panas dari yang lain dan mulai naik karena kerapatannya lebih rendah (Gambar 12). Gelembung udara yang naik saat konveksi disebut thermal. Ketika tiba di atas, udara yang naik ini dapat mendingin dan turun kembali ke permukaan bumi, sehingga siklus konveksi terulang.\n",
    "Konveksi biasanya terjadi lebih kuat di perkotaan dibanding di desa. Hal ini karena perkotaan membuang panas ke udara lebih banyak (AC, kendaraan, pabrik, pembakaran sampah, dll.) (Gambar 12).\n",
    "### Adveksi\n",
    "Peristiwa perpindahan panas ke arah horizontal karena pergerakan fluida secara massal disebut adveksi (Gambar 13). Contoh adveksi: angin yang bertiup dari Lautan Hindia membawa uap air dan panas laten ke Pulau Jawa menyebabkan hujan deras dan banjir.\n",
    "\n",
    "### Radiasi\n",
    "Radiasi adalah energi panas yang dipindahkan dari sumber panas menuju obyek dengan perantaraan gelombang elektromagnetik. Energi yang dibawa melalui radiasi semakin besar jika panjang gelombang pembawanya semakin kecil (Gambar 14). Semua benda yang suhunya di atas 0 K mengeluarkan radiasi. Hubungan antara suhu benda dan panjang gelombang radiasi dijelaskan dengan hukum Wien, dan hubungan antara suhu benda dengan intensitas radiasi dijelaskan dengan hukum Stefan-Boltzmann. Radiasi yang dipancarkan matahari sebagian besar berada pada spektrum cahaya tampak (44%) dan inframerah (49%).\n"
   ]
  },
  {
   "cell_type": "markdown",
   "metadata": {},
   "source": [
    "## Keseimbangan Absorpsi dan Emisi\n",
    "Permukaan bumi mengalami interaksi dengan atmosfer secara thermal. Pada siang hari bumi menyerap energi matahari, dan pada malam hari bumi melepas energi tersebut. Kemampuan absorpsi dan emisi benda sangat bergantung pada sifat fisis benda tersebut.\n",
    "Benda hitam adalah benda yang mampu menyerap (dan juga memancarkan kembali) radiasi yang diterimanya dengan sempurna. Atmosfer bumi menyeleksi radiasi yang dapat diterima maupun dipancarkan permukaan bumi.\n",
    "Atmosfer Bumi sebagai Penyaring Radiasi\n",
    "Atmosfer bumi mampu menyerap sebagian radiasi matahari, dan memancarkan kembali radiasi yang telah diserap tadi. Atmosfer bumi mampu menyaring radiasi karena mengandung gas yang menyerap energi dari radiasi tersebut (Gambar 15). Selain melindungi kita dari sinar UV, kemampuan atmosfer dalam menyaring radiasi ini dimanfaatkan untuk analisis citra satelit.\n",
    "### Efek Rumah Kaca\n",
    "\n",
    "Seringkali kita mendengar istlah efek rumah kaca. Hal ini merupakan salah satu sifat atmosfer bumi yang mampu menyaring radiasi sehingga menyebabkan terjadinya efek rumah kaca.Radiasi yang diserap ini tidak bisa keluar dari atmosfer, sehingga suhu muka Bumi menjadi hangat.\n",
    "  Awan memiliki kemampuan untuk menyerap dan memancarkan radiasi bumi pada daerah jendela atmosfer, sehingga membuat muka Bumi lebih hangat lagi. Tanpa efek rumah kaca, suhu muka Bumi akan sedingin -18 ℃ (Gambar 16).\n",
    "\n",
    "### Penguatan Efek Rumah Kaca\n",
    "Akhir-akhir ini terjadi penambahan gas CO2, CFC, CH4, N2O ke atmosfer akibat kegiatan manusia.  Gas CFC adalah yang paling berbahaya karena dapat memblokir radiasi bumi pada daerah jendela atmosfer Penambahan gas-gas tersebut mengakibatkan suhu muka bumi naik 0,6 ℃ dalam 100 tahun terakhir. Karena memperkuat efek rumah kaca, gas-gas tersebut dinamai positive feedback atau umpan balik yang positif. Awan dan lautan merupakan negative feedback atau umpan balik yang negatif, karena memperlemah penguatan efek rumah kaca.\n",
    "       Walaupun sama-sama menyerap radiasi bumi pada rentang jendela atmosfer, awan lebih banyak memantulkan radiasi matahari dibanding CFC.\n"
   ]
  },
  {
   "cell_type": "markdown",
   "metadata": {},
   "source": [
    "Pemanasan Udara\n",
    "       Pemanasan udara di troposfer sebagian besar diakibatkan oleh pemanasan muka bumi.  Sinar matahari yang mengenai molekul-molekul udara hanya memiliki efek yang kecil karena udara merupakan konduktor yang buruk. Ketika sinar matahari mengenai permukaan Bumi, suhu muka Bumi akan naik dan secara konduksi panas akan dipindahkan ke udara beberapa centimeter di atasnya maka lapisan udara panas ini tidak stabil sehingga mengalami konveksi. Konveksi memindahkan dan mencampurkan udara panas bersama dengan lapisan udara dingin maka suhu udara menjadi lebih merata. Ketika sore hari, suhu udara tidak turun drastis karena ada sebagian energi radiasi yang diserap gas-gas rumah kaca yang dipancarkan kembali.\n"
   ]
  },
  {
   "cell_type": "markdown",
   "metadata": {},
   "source": [
    "## Penerimaan Energi Matahari\n",
    "### Refleksi dan Penyebaran Cahaya\n",
    "Konstanta matahari adalah jumlah energi matahari yang jatuh tegak lurus bagian terluar atmosfer Bumi – 1365 hingga 1372 Wm-2. Ketika sinar matahari mengenai partikulat dan molekul gas di atmosfer, cahayanya akan terpantul ke mana-mana. Jenis pemantulan ini disebut penyebaran cahaya. Karena molekul gas umumnya lebih kecil daripada panjang gelombang cahaya, maka dia lebih efektif dalam menyebarkan cahaya dengan gelombang pendek (pada siang hari). Pada sore hari, cahaya matahari melewati lapisan udara yang lebih tebal, membuat gelombang biru tidak tersebar dengan baik – akhirnya cahaya dengan panjang gelombang pendek (kuning, orange) yang tersebar (Gambar 17).\n",
    "         \n",
    "### Komposisi radiasi matahari. \n",
    "Intensitas gelombang berwarna biru > gelombang berwarna ungu, sehingga warna langit pada siang hari biru. Pada sore hari warna langit menjadi kuning – bukan hijau- karena sinar matahari terlalu terang. Refleksi berbeda dengan penyebaran cahaya karena pada peristiwa refleksi, intensitas cahaya yang dipantulkan lebih kuat dibanding penyebaran cahaya. \n",
    "Albedo adalah persentase radiasi yang dipantulkan dibandingkan dengan radiasi yang diterimanya (Tabel 2). Karena intensitas radiasi merupakan besaran skalar, maka dalam kehidupan sehari-hari total radiasi yang kita terima berasal dari radiasi yang langsung dari sumber ditambah dengan radiasi dari pantulan.\n",
    "\n",
    "         \n"
   ]
  },
  {
   "cell_type": "markdown",
   "metadata": {},
   "source": [
    "## Keseimbangan Energi di Bumi\n",
    "Untuk memberikan gambaran bagaimana konsep kesetimbangan energy di atmosfer terjadi, Gambar 18 bisa menjadi ilustrasi untuk perhitungan keseimbangan energi sebagai berikut;\n",
    "\n",
    "Asumsikan energi matahari total ada 100 unit. Energi matahari yang diterima permukaan Bumi =  51 unit. Energi matahari yang diserap atmosfer ada 19 unit. Karena permukaan Bumi bersuhu > 0K, maka ia juga mengeluarkan radiasi inframerah sepanjang waktu, membuat total energi yang diberikan ke atmosfer mencapai 147 unit.\n",
    "Ada 6 unit energi radiasi dari muka bumi kabur ke angkasa luar. Total energi yang dimiliki atmosfer (dari pancaran radiasi muka bumi + energi hasil penyerapan sinar matahari) = 160 unit. Atmosfer membuang 64 unit energi radiasi ke angkasa luar. 96 unit energi radiasi tersebut dikembalikan lagi ke Bumi sebagai efek rumah kaca.\n",
    "\n",
    "## Mengapa Bumi Memiliki Musim\n",
    "\n",
    "Pada lintang-lintang tinggi, cahaya matahari jatuh ke muka bumi dengan sudut datang tertentu dan melewati lapisan atmosfir yang lebih tebal – bandingkan dengan daerah tropis. Akibatnya, fluks radiasi yang diterima muka bumi pada lintang tinggi kurang dari fluks radiasi pada daerah tropis. Selain itu, kemiringan Bumi pada porosnya juga membuat panjang hari di lintang tinggi berubah secara mencolok sehingga terjadi perubahan suhu dan musim yang drastis.\n",
    "Ketika di suatu bagian Bumi menerima lebih banyak radiasi matahari daripada di tempat lain, maka tempat itu sedang mengalami musim panas (di Indonesia = hujan). Sebaliknya pada musim dingin (Indonesia = kemarau), bagian Bumi yang mengalaminya menerima fluks radiasi kurang dari tempat lain.\n",
    "Musim di Belahan Bumi Utara\n",
    "          Pada belahan Bumi Utara, tanggal 21 Juni adalah hari pertama musim panas astronomis, dan tanggal 21 Desember adalah hari pertama musim dingin astronomis. Pada musim dingin, salju dapat turun hingga sejauh Vietnam dan Aljazair. Wilayah-wilayah dekat kutub dapat mengalami malam hari berminggu-minggu  \n",
    "           Pada musim panas, wilayah-wilayah seperti Eropa Barat, Rusia, dan Pantai Timur Amerika dapat mengalami gelombang panas (suhu di atas 35oC ) akibat tekanan udara tinggi. Wilayah yang terletak dekat kutub mengalami sinar matahari 24 jam.\n",
    "Di Indonesia bagian utara, musim hujan biasanya terjadi pada pertengahan tahun, mengikuti tekanan rendah yang terbentuk setiap musim panas di wilayah Asia.\n",
    "Musim di Belahan Bumi Selatan\n",
    "          Pada belahan Bumi Selatan, tanggal 21 Juni adalah hari pertama musim dingin astronomis, dan tanggal 21 Desember adalah hari pertama musim panas astronomis.\n",
    "Pada musim dingin, salju biasanya turun sampai sejauh Santa Catarina, Brazil dan Afrika Selatan. Peristiwa gelombang panas jarang terjadi di belahan bumi selatan – biasanya hanya terjadi di Australia, dan mengakibatkan kebakaran hutan di sana. Hal ini karena luasnya lautan di belahan bumi selatan.\n",
    "Di Indonesia bagian selatan, musim hujan biasanya terjadi pada akhir dan awal tahun, mengikuti tekanan rendah yang terbentuk setiap musim panas di wilayah Australia. Pada musim kemarau, cuaca di Indonesia bagian selatan lebih dipengaruhi oleh tekanan tinggi di Australia Barat.\n",
    "\n",
    "Posisi matahari di atas Kota Yogyakarta pada tengah hari tanggal 21 Desember, 20 Maret dan 22 September serta 21 Juni ditunjukkan oleh Gambar 19.\n",
    "Variasi Lokal Musiman\n",
    "\tVariasi lokal musiman terjadi akibat variasi kondisi geografis suatu daerah. Keberadaan gunung, bukit, danau, atau bentang alam lainnya dapat mempengaruhi cuaca di suatu daerah. Hal ini juga memberikan dampak secara social, sehingga dapat juga mempengaruhi pola hidup manusia dan makhluk di sana. Dari Gambar 20 terlihat kawasan gunung di Kulon Progo, sisi barat lebih hijau dari sisi timur karena angin barat membawa lebih banyak hujan dibanding angin timur. Secara geologi, jenis batuan di wilayah itu hampir serupa. Dengan demikian jelas bahwa bentuk topografi atau morfologi permukaan bumi sangat mempengaruhi kondisi meteorology di daerah tersebut.\n",
    "\n"
   ]
  },
  {
   "cell_type": "code",
   "execution_count": null,
   "metadata": {},
   "outputs": [],
   "source": []
  }
 ],
 "metadata": {
  "kernelspec": {
   "display_name": "Python 3",
   "language": "python",
   "name": "python3"
  },
  "language_info": {
   "codemirror_mode": {
    "name": "ipython",
    "version": 3
   },
   "file_extension": ".py",
   "mimetype": "text/x-python",
   "name": "python",
   "nbconvert_exporter": "python",
   "pygments_lexer": "ipython3",
   "version": "3.7.0"
  }
 },
 "nbformat": 4,
 "nbformat_minor": 2
}
