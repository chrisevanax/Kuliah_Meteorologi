{
 "cells": [
  {
   "cell_type": "markdown",
   "metadata": {},
   "source": [
    "# Kabut"
   ]
  },
  {
   "cell_type": "markdown",
   "metadata": {},
   "source": [
    "Kabut dapat terbentuk dengan 2 macam cara:\n",
    "    1. dengan pendinginan, yaitu mendinginkan air dibawah titik embun \n",
    "    2. dengan penguapan dan pencampuran, yaitu uap air ditambahkan ke udara melalui penguapan dan udara basah bercampur dengan udara kering \n",
    "    \n",
    "Untuk mempertahankan kabut, udara harus mempertahankan kejenuhan baik itu dengan pendinginan yang terus menerus atau penguapan dan mencampur dengan udara kering."
   ]
  },
  {
   "cell_type": "markdown",
   "metadata": {},
   "source": [
    "### Kabut Radiasi (*radiation fog*)"
   ]
  },
  {
   "cell_type": "markdown",
   "metadata": {},
   "source": [
    "### Kabut Adveksi (*advection fog*)"
   ]
  },
  {
   "cell_type": "markdown",
   "metadata": {},
   "source": [
    "### Kabut lembah naik (*upslope fog*)"
   ]
  },
  {
   "cell_type": "markdown",
   "metadata": {},
   "source": [
    "### Kabut uap (*steam fog*)"
   ]
  },
  {
   "cell_type": "markdown",
   "metadata": {},
   "source": [
    "# Awan\n",
    "\n",
    "Awan adalah penghias angkasa, dan menyebabkan dinamika di atmosfer. Tanpa awan, tidak ada hujan, tidak ada salju, tidak ada petir, tidak ada pelangi, sehingga monoton. Terbentuk dari suspensi titik-titik air dan kristal es di udara. Perhatikan bentuk awan yang bermacam-macam, kemudian orang mengklasifikasikan awan berdasarkan bentuknya.\n"
   ]
  },
  {
   "cell_type": "markdown",
   "metadata": {},
   "source": [
    "## Klasifikasi Awan\n",
    "\n",
    "Awan baru diklasifikasikan pada awal abad ke 19, oleh ilmuwan dari Perancis Lamarck (1744-1829) yang pertama kali mengusulkan sebuah sistem untuk klasifikasi awan, di tahun 1802, namun tidak banyak mendapat tanggapan dari para ahli. Setahun kemudian, ahli alam dari Inggris, Luke Howard mengusulkan sistem untuk klasifikasi awan yang kemudian menari perhatian para ahli. Dia memakai istilah dalam bahasa latin untuk memberi nama awan berdasarkan bentuk kenampakannya, seperti kalau bentuknya berlembar-lembar dinamai *stratus*, kalau seperti bengkak, *cumulus*, kalau keriting, *cirrus*, kalau awan hujan *nimbus*. Dalam klasifikasi Howard, keempatnya manjadi bentuk dasar dari awan. Bentuk lain dapat berupa kombinasi dari empat bentuk dasar tersebut, misalnya *nimbostratus* dll.\n",
    "\n",
    "Kemudian pada tahun 1887, Abercromby dan Hildebransdsson mengembangkan ke-4 sistem Howard menjadi 10 jenis yang dibagi menjadi 4 grup berdasarkan ketinggian awan,"
   ]
  },
  {
   "cell_type": "markdown",
   "metadata": {},
   "source": [
    "![](awan.png)"
   ]
  },
  {
   "cell_type": "markdown",
   "metadata": {},
   "source": [
    "### Cirrus"
   ]
  },
  {
   "cell_type": "markdown",
   "metadata": {},
   "source": [
    "### Cirrocumulus"
   ]
  },
  {
   "cell_type": "markdown",
   "metadata": {},
   "source": [
    "### Cirrostratus"
   ]
  },
  {
   "cell_type": "markdown",
   "metadata": {},
   "source": [
    "### Altocummulus"
   ]
  },
  {
   "cell_type": "markdown",
   "metadata": {},
   "source": [
    "### Altostratus"
   ]
  },
  {
   "cell_type": "markdown",
   "metadata": {},
   "source": [
    "### Nimbostratus"
   ]
  },
  {
   "cell_type": "markdown",
   "metadata": {},
   "source": [
    "### Stratocumulus"
   ]
  },
  {
   "cell_type": "markdown",
   "metadata": {},
   "source": [
    "### Stratus"
   ]
  },
  {
   "cell_type": "markdown",
   "metadata": {},
   "source": [
    "### Cumulus"
   ]
  },
  {
   "cell_type": "markdown",
   "metadata": {},
   "source": [
    "### Cumulonimbus"
   ]
  },
  {
   "cell_type": "markdown",
   "metadata": {},
   "source": [
    "### Lenticular"
   ]
  },
  {
   "cell_type": "markdown",
   "metadata": {},
   "source": [
    "### Pileus"
   ]
  },
  {
   "cell_type": "markdown",
   "metadata": {},
   "source": [
    "### Fractus"
   ]
  },
  {
   "cell_type": "markdown",
   "metadata": {},
   "source": [
    "### Humilis"
   ]
  },
  {
   "cell_type": "markdown",
   "metadata": {},
   "source": [
    "### Congestus"
   ]
  },
  {
   "cell_type": "markdown",
   "metadata": {},
   "source": [
    "### Undulatus"
   ]
  },
  {
   "cell_type": "markdown",
   "metadata": {},
   "source": [
    "### Translucidus"
   ]
  },
  {
   "cell_type": "markdown",
   "metadata": {},
   "source": [
    "### Mammatus"
   ]
  },
  {
   "cell_type": "markdown",
   "metadata": {},
   "source": [
    "### Castellanus"
   ]
  },
  {
   "cell_type": "markdown",
   "metadata": {},
   "source": [
    "### Contrail"
   ]
  },
  {
   "cell_type": "code",
   "execution_count": null,
   "metadata": {},
   "outputs": [],
   "source": []
  }
 ],
 "metadata": {
  "kernelspec": {
   "display_name": "Python 3",
   "language": "python",
   "name": "python3"
  },
  "language_info": {
   "codemirror_mode": {
    "name": "ipython",
    "version": 3
   },
   "file_extension": ".py",
   "mimetype": "text/x-python",
   "name": "python",
   "nbconvert_exporter": "python",
   "pygments_lexer": "ipython3",
   "version": "3.7.0"
  }
 },
 "nbformat": 4,
 "nbformat_minor": 2
}
