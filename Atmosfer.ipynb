{
 "cells": [
  {
   "cell_type": "markdown",
   "metadata": {},
   "source": [
    "# Atmosfer bumi\n",
    "Beberapa materi yang akan disampaikan dalam minggu pertama ini, diantaranya:\n",
    "- Pendahuluan\n",
    "- Komposisi Atmosfer Bumi\n",
    "- Struktur vertikal atmosfer\n",
    "- Perubahan kerapatan dan tekanan udara\n",
    "- Perubahan suhu \n",
    "- Lapisan-Lapisan Atmosfer\n",
    "- Cuaca dan Iklim\n",
    "- Pengamatan cuaca dengan satelit\n",
    "\n",
    "## Tujuan Pembelajaran\n",
    "Mahasiswa dapat menjelaskan mengenai atmosfer bumi, yang meliputi komposisinya, struktur vertikal dan perlapisan atmosfer, serta beberapa teknik pengamatan atmosfer yang umum dilakukan oleh pengamat cuaca. Setelah mengikuti kuliah ini diharapkan mahasiswa mampu menjelaskan istilah-istilah yang umum di bidang atmosfer diantaranya adalah, definisi atmosfer itu sendiri, komposisinya, uap air, ozon, aerosol, polutan, tekanan udara, radio sonde, troposfer, stratosfer, mesosfer, thermosfer, ionosfer, iklim dan dapat menjelaskan dengan baik semua arti dari istilah-istilah tersebut."
   ]
  },
  {
   "cell_type": "markdown",
   "metadata": {},
   "source": [
    "## Pendahuluan\n",
    "Atmosfer bumi berperan dalam menjaga keindahan bumi serta memungkinkan bumi layak dihuni oleh makhluk hidup. Indahnya pemandangan matahari terbit dan terbenam, munculnya warna warni pelangi, merdunya nyanyian burung dan suara gemercik air sungai hanya bisa terjadi karena keberadaan atmosfer bumi. Selain itu, dengan keberadaan atmosfer, suhu di bumi tidak turun secara drastis dimalam hari dan tidak memanas dengan cepat disiang hari. Atmosfer membuat ketersediaan air dibumi lebih terjaga dan melindungi kita dari radiasi matahari. Selain itu, atmosfer menyediakan medium untuk menyebarkan gelombang bunyi dan gelombang radio ke segala bagian di permukaan bumi. Atmosfer bumi berisi campuran berbagai macam gas termasuk uap air hasil penguapan yang utamanya berasal dari lautan \n",
    "\n",
    "![pantai](./Gambar/klayar.jpg)\n",
    "\n",
    "Atmosfer bumi ibarat selimut yang berfungsi untuk melindungi kulit bumi termasuk makhluk hidup yang tinggal di atasnya, dari serangan sinar-sinar kosmik, sinar ultraviolet matahari dan partikel-partikel (material) luar angkasa. Sinar-sinar tersebut sangat berbahaya bagi makhluk hidup karena bersifat merusak bahkan bisa mematikan.  Untuk itu perlu usaha-usaha dari sema fihak, utamanya bagi pemangku kepentingan untuk secara bersama-sama menjaga kualitas atmosfer bumi kita, jangan sampai rusak. Karena kalau sudah rusak, ibarat selimut yang berlubang, tentunya sudah tidak lagi bisa melindungi tubuh secara sempurna."
   ]
  },
  {
   "cell_type": "markdown",
   "metadata": {},
   "source": [
    "## Komposisi Atmosfer Bumi\n",
    "Atmosfer bumi utamanya disusun oleh lapisan tipis gas-gas dengan urutan dari yang konsentrasinya paling besar, yaitu Nitrogen (N2), Oksigen (O2), dan sejumlah kecil gas-gas seperti uap air (H20) dan karbon dioksida (C02). Secara lebih detail, komposisi gas-gas penyusun atmosfer diberikan pada Tabel 1.\n",
    "Tabel 1 Komposisi atmosfer di dekat permukaan bumi\n",
    "\n",
    "Gas Permanen | Simbol | %volume (udara kering) |\n",
    " ------------ | :-----------: | -----------: |\n",
    " Nitrogen | N2| 78,08\n",
    " Oksigen | O2 | 20,95\n",
    " Argon | Ar | 0,93\n",
    " Neon | Ne | 0,0018\n",
    " Helium | He | 0,0005\n",
    " Hidrogen | H2 | 0,00006\n",
    " Xenon | Xe| 0,000009\n",
    " \n",
    " Selain diisi oleh gas permanen diatas, atmosfer bumi juga mengandung gas \n",
    " \n",
    " Gas Variabel | Simbol | %volume (udara kering) |\n",
    " ------------ | :-----------: | -----------: |\n",
    " Uap air | H2O | 0 - 4 \n",
    " Karbon dioksida | CO2 | 0,037\n",
    " Metana | CH4 | 0,00017\n",
    " Nitrogen Oksida | N2O | 0,00003\n",
    " Ozon | O3 | 0,000004\n",
    " Partikel (debu jealga dll) |. |  0,000001\n",
    " [Chloroflurocarbons](http://www.theozonehole.com/cfc.htm) | CFC    |  0,00000002\n",
    " \n",
    " Komposisi gas-gas di atmosfer mengalami perubahan baik dalam kurun waktu yang singkat maupun dalam kurun waktu yang lama. Berbagai peristiwa alam maupun aktifitas manusia, dapat mempengaruhi komposisi gas-gas tersebut. Misalnya pada skala yang relatif singkat, pada saat terjadi erupsi gunungapi, atmosfer mengalami penambahan partikel-partikel halus yang mengandung unsur-unsur yang berasal dari dalam bumi, uap air, karbon dioksida mapuan sulfur dioksida dalam jumlah yang cukup banyak. \n",
    " \n",
    "![merapi](./Gambar/merapi.jpg)\n",
    " \n",
    " **Gambar dari BPPTKG Yogyakarta**\n",
    " \n",
    " \n",
    " Campuran dari material padat yang halus atau partikel yang bercampur fluida disebut aerosol. Selain itu, kemajuan teknologi yang ditopang oleh keberadaan industri, mesin-mesin penggerak roda transportasi, ditambah dengan pengurangan jumlah lahan hutan alami dan daerah hijau menyebabkan konsentrasi gas karbon dioksida mengalami kecenderungan peningkatan dari tahun ke tahun (Gambar 3). Perlu dicatat bahwa grafik konsentrasi tersebut berosilasi naik dan turun mengikuti musim. Pada saat musim panas, kecenderungan CO2 naik karena kurangnya tumbuhan yang menyerap CO2 di atmosfer dan sebaliknya.\n",
    "![Carbon](https://www.esrl.noaa.gov/gmd/webdata/ccgg/trends/co2_trend_all_gl.png)\n",
    "\n",
    " Tanpa usaha yang bersifat masal dan komitmen bersama yang sungguh-sungguh akan sulit untuk menurunkan kadar CO2 di atmosfer bahkan hanya untuk menjaga jangan sampai terjadi kenaikan kadar CO2 saja. Kebijakan yang bersifat global dengan insetif yang signifikan diperlukan agar masing-masing negara berlomba untuk mengerem laju peningkatan kadar karbon dioksida di atmosfer ini.\n"
   ]
  },
  {
   "cell_type": "markdown",
   "metadata": {},
   "source": [
    "## Struktur Vertikal Atmosfer Bumi\n",
    "Atmosfer bumi tersusun atas lapisan-lapisan gas yang memiliki karakteristik fisika tertentu. Tekanan udara di atmosfer bumi semakin ke atas semakin berkurang. Tekanan udara berkurang karena kepadatan gas di atmosfer semakin ke atas juga semakin kecil. Tekanan udara standar di permukaan laut adalah sebesar 1013,25 hPa. Secara vertikal, suhu udara di atmosfer tidak mengalami perubahan secara konstan, namun berubah-ubah tergantung lapisan atmosfernya. Pada lapisan troposfer, suhu udara menurun sesuai ketinggian. Namun pada lapisan stratosfer, semakin ke atas suhu akan semakin naik, lalu kemudian menurun lagi pada saat memasuki lapisan mesosfer. Pada lapisan termosfer, suhu udara kembali naik lagi sesuai seiring dengan bertambahnya ketinggian dari permukaan bumi.\n",
    "\n",
    "![struktur_vertikal](http://apollo.lsc.vsc.edu/classes/met130/notes/chapter1/graphics/vert_temp.gif)"
   ]
  },
  {
   "cell_type": "markdown",
   "metadata": {},
   "source": [
    "## Perubahan Tekanan Udara\n",
    "Secara umum, tekanan udara di atmosfer bumi berkurang secara eksponensial seiring bertambahnya ketinggian. Gambar 4 menunjukkan hubungan antara ketinggian dari permukaan laut (dalam km) dengan tekanan udara (dalam hPa atau setara dengan milibar, mb). Terlihat bahwa tekanan udara berkurang seiring dengan bertambahnya ketinggian dari permukaan laut.  Tekanan udara diukur dengan menggunakan alat ukur yang disebut   barometer. Ada lebih dari 90% udara di atmosfer terkandung pada ketinggian 0 – 20 km di atas permukaan Bumi. Pengetahuan akan sifat-sifat atmosfer pada lapisan tekanan udara tertentu penting dalam kegiatan peramalan cuaca.\n",
    "\n",
    "![radiosonde](https://www.researchgate.net/profile/Donna_Holdridge/publication/305481813/figure/fig3/AS:387743055138818@1469456556316/Radiosonde-launch-at-the-ARM-Southern-Great-Plains-site.png)\n",
    "\n",
    "Pengukuran parameter cuaca menggunakan radiosonde. Metode ini sampai saat ini masih sering dilakukan ahli cuaca, meskipun sudah ada data penginderaan jauh dengan satelit cuaca. Gambar diambil dari https://www.researchgate.net/figure/Radiosonde-launch-at-the-ARM-Southern-Great-Plains-site_fig3_305481813\n",
    "\n",
    "## Perubahan Kerapatan Udara\n",
    "Sebagaimana tekanan udara, kerapatan udara juga mengecil secara eksponensial seiring bertambahnya ketinggian. Molekul-molekul udara memiliki bobot, yang ternyata cukup berat. Berat total molekul udara diseluruh permukaan bumi mencapai 5600 triliun ton. Berat ini menyebabkan timbulnya gaya di permukaan bumi, yang dikenal sebagai tekanan atmosfer, seperti yang telah dijelaskan diatas.\n",
    "## Perubahan suhu udara\n",
    "Sebagaimana tekanan udara dan densitasnya, pada atmosfer juga terjadi variasi suhu udara yang tidak sama untuk setiap lapisan. Di lapisan termosfer dan stratosfer suhu udara cenderung naik seiring bertambahnya ketinggian. Lapisan-lapisan antara (Tropopause, Stratopause, Mesopause) tidak memperlihatkan perubahan suhu yang signifikan."
   ]
  },
  {
   "cell_type": "markdown",
   "metadata": {},
   "source": [
    "## Lapisan-lapisan Atmosfer Bumi\n",
    "Berdasarkan temperatur udaranya, atmosfer bumi terbagi atas troposfer, stratosfer, mesosfer, termosfer, dan eksosfer. Setiap lapisan-lapisan tersebut dibatasi lapisan antara (tropopause, stratopause, mesopause, dan termopause).\n",
    "Berdasarkan bahan penyusun, atmosfer bumi terbagi atas heterosfer dan homosfer. Heterosfer adalah bagian atmosfer yang bahan penyusunnya memiliki komposisi berbeda-beda satu sama lain (termosfer dan eksosfer). Homosfer adalah bagian atmosfer yang komposisinya serupa (troposfer, stratosfer, troposfer). Ionosfer adalah lapisan atmosfer yang memiliki jumlah ion yang besar; letaknya sekitar ± 60 km dari permukaan bumi (sebagian mesosfer, termosfer, dan eksosfer ).\n",
    "Berikut adalah beberapa hal yang berhubungan dengan lapisan-lapisan di dalam atmosfer bumi.\n",
    "![lapisan](https://upload.wikimedia.org/wikipedia/commons/thumb/1/18/Atmosphere_with_Ionosphere.svg/515px-Atmosphere_with_Ionosphere.svg.png)\n",
    "### 1. [Lapisan Troposfer]((https://en.wikipedia.org/wiki/Troposphere))\n",
    "Lapisan ini adalah yang paling dekat dengan permukaan bumi. Pada lapisan inilah peristiwa cuaca terjadi. Secara Bahasa, troposfer berasal dari Bahasa Yunani, ‘tropein’ yang berarti ‘berubah’. Pada lapisan inilah terjadinya peristiwa cuaca, sehingga survey cuaca menggunakan radiosonde dilakukan terutama pada lapisan ini.\n",
    "Pada lapisan ini sering terjadi penurunan suhu (lapse rate) yang besar rata-ratanya adalah 6.5oC setiap kenaikan 1 km. Selain itu, pada lapisan ini juga dapat terjadi inversi di tempat dan kondisi tertentu. Inversi adalah kenaikan suhu seiring naiknya ketinggian.\n",
    "Lapisan Troposfer memiliki ketebalan paling tebal di ekuator, dan paling tipis di kutub. Selama musim panas ketebalan troposfer bertambah dan berkurang selama musim dingin.\n",
    "\n",
    "### 2. [Lapisan Stratosfer](https://en.wikipedia.org/wiki/Stratosphere)\n",
    "Diatas lapisan troposfer, pada lapisan stratosfer ini terjadi inversi secara umum. Inversi di troposfer menghalangi udara dari troposfer naik lebih tinggi lagi. Di antara lapisan Stratosfer dan Troposfer terdapat batas, yang dinamai tropopause. Di lapisan ini terjadi aliran angin yang kuat pada lintang subtropis, disebut arus jet. Inversi di lapisan troposfer disebabkan karena kandungan gas ozon yang tinggi di sana. Gas ozon menyerap energi dari sinar UV matahari.\n",
    "### 3. [Lapisan Mesosfer](https://en.wikipedia.org/wiki/Mesosphere)\n",
    "Diatas lapisan Stratosfer, terdapat lapisan Mesosfer. Suhu udara di mesosfer turun seiring naiknya ketinggian. Pada bagian tertinggi mesosfer suhu udara -90oC. Komposisi udara sama seperti troposfer dan stratosfer, namun dengan jumlah molekul udara yang sangat sedikit. Karena jumlah molekul udara yang sedikit, maka tekanan udara di mesosfer sangat rendah.\n",
    "\n",
    "### 4. [Lapisan Termosfer](https://en.wikipedia.org/wiki/Thermosphere) dan [Eksosfer](https://en.wikipedia.org/wiki/Exosphere)\n",
    "Pada lapisan termosfer, jumlah molekul udara sangat sedikit, gambarannya, satu buah molekul udara harus bergerak setidaknya satu km agar bisa menabrak molekul udara lainnya. Temperatur udara di lapisan termosfer akan naik seiring bertambahnya ketinggian karena molekul O2 menyerap energi radiasi matahari. Suhu dapat naik hingga di atas 500oC. Namun demikian, kita tidak akan merasa panas di termosfer karena sangat sedikit molekul udara yang akan menabrak kulit dan memindahkan panasnya ke kita.\n",
    "Lapisan eksosfer adalah bagian terluar tempat molekul udara mulai kabur meninggalkan atmosfer bumi. Dengan demikian, sangat sulit mengenali batas antara lapisan ini dengan luar angkasa.\n",
    "\n",
    "### 5. [Lapisan Ionosfer](https://en.wikipedia.org/wiki/Ionosphere)\n",
    "Lapisan ionosfer adalah lapisan atmosfer dengan jumlah ion yang besar, letaknya >60 km di atas muka bumi (meliputi sebagian mesosfer, termosfer, eksosfer) (Gambar 7). Lapisan ionosfer ini terdiri atas lapisan D (ketinggian 60 – 120 km), E (ketinggian 120 – 180 km), dan F (ketinggian >180 km). Lapisan D hanya ada pada siang hari, dan menyerap sinyal radio AM. Lapisan E dan F berguna dalam pemantulan sinyal radio AM sehingga kita bisa mendengarkan siaran dari luar negeri di malam hari. Sementara siaran radio FM tidak dipantulkan ionosfer."
   ]
  },
  {
   "cell_type": "markdown",
   "metadata": {},
   "source": [
    "## Cuaca danIklim\n",
    "Cuaca berarti menjelaskan kondisi atmosfer di suatu tempat pada suatu waktu yang senantiasa terus berubah-ubah. Cuaca tersusun atas elemen-elemen berikut:\n",
    "1. Tekanan udara – gaya tekan yang diberikan oleh masa udara di suatu tempat\n",
    "2. Suhu udara – derajat panas atau dinginnya masa udara\n",
    "3. Kelembaban – mengukur jumlah uap air di dalam udara\n",
    "4. Awan – masa udara yang berisi titik-titik air atau Kristal-kristal es diatas permukaan bumi yang tampak secara visual.\n",
    "5. Presipitasi – sembarang bentuk fase air, baik berupa cairan (hujan) maupun padatan (salju, hujan es), yang berasal dari awan yang jatuh ke permukaan bumi.\n",
    "6. Visibilitas – jarak terjauh yang dapat dilihat dengan mata telanjang\n",
    "7. Angin – gerakan horizontal udara\n",
    "\n",
    "Jika kita secara kontinyu mengamati elemen-elemen cuaca diatas dalam kurun waktu yang lama, misalnya 10 tahun atau lebih, maka kita mendapatkan cuaca rata-rata atau disebut dengan iklim di suatu tempat tertentu. Jadi, iklim adalah menggambarkan akumulasi cuaca secara harian atau musiman dalam kurun waktu yang lama. Namun tentunya anomaly cuaca bisa saja terjadi (yang kadang dikenal dengan cuaca ekstrim) yang menjadi pembeda antara iklim di suatu tempat dengan di tempat yang lain.\n",
    "Di Indonesia, pemantauan cuaca ekstrim dihampir seluruh wilayah tanah air telah dilakukan oleh Badan Meteorologi, Klimatologi dan Geofisika dan informasi tentang kemungkinan terjadinya cuaca ekstrim diperbarui setiap hari. Informasi tersebut dapat dipantau melalui http://meteo.bmkg.go.id/peringatan/ekstrim . Diantara cuaca ekstrim yang sering terjadi di Indonesia, diantaranya adalah hujan lebat dan angin puting beliung. Sebagai sebuah sistem yang dinamis, kondisi iklim bumi juga berubah-ubah selama ribuan tahun.\n"
   ]
  },
  {
   "cell_type": "markdown",
   "metadata": {},
   "source": [
    "## Pengamatan Cuaca dengan Satelit\n",
    "Kemajuan teknologi semakin memudahkan ahli cuaca dalam mengamati elemen-elemen cuaca secara langsung menggunakan bantuan penginderaan jauh dari satelit. Satelit adalah obyek buatan yang bergerak mengelilingi bumi pada ketinggian tertentu dari permukaan bumi (mangorbit). Ketinggian satelit cuaca berkisar 36 ribu kilometer dari permukaan bumi, yang disebut satelit geostasioner, yaitu bergerak mengikuti orbit bumi. Jadi satelit akan berada diatas suatu daerah secara tetap dan mengamati terjadinya perubahan cuaca di suatu daerah tertentu. Gambar di bawah menunjukkan contoh gambar citra satelit cuaca di atas wilayah Indonesia.\n",
    "\n",
    "![satelit](./Gambar/citra_cuaca.png)\n",
    "\n",
    "Badan Meteorologi Klimatologi dan Geofisika Indonesia (BMKG) juga telah memanfaatkan kemajuan teknologi satelit dalam memonitor aktifitas atmosfer di sekitar wilayah Nusantara. Tautan berikut memberikan informasi terkini aktifitas meteorologi di wilayah Indonesia secara langsung dan diperbarui setiap saat, dan dapat diakses melalui website:   http://satelit.bmkg.go.id/BMKG/ ."
   ]
  },
  {
   "cell_type": "markdown",
   "metadata": {},
   "source": [
    "## Citra Satelit untuk Penelitian Cuaca\n",
    "Pada jaman dahulu, penelitian cuaca dilakukan dengan cara menerbangkan beragam sensor cuaca seperti thermometer, barometer, sensor kelembaban udara dan lain sebagainya dengan sebuah balon cuaca, yang disebut dengan radiosonde (Gambar 6). Namun saat ini, dengan semakin majunya teknologi satelit, pengukuran parameter cuaca dilakukan secara penginderaan jauh dengan menggunakan citra dan data satelit. Citra satelit berguna untuk memonitor kejadian cuaca dari atas. Dengan citra satelit kita bisa melihat pola-pola dan karakteristik cuaca dengan lebih baik. Kita bisa menuangkan hasil pengamatan satelit menjadi sebuah peta cuaca. Dengan citra satelit kita bisa melihat pola-pola dan karakteristik cuaca dengan lebih baik. Kita bisa menuangkan hasil pengamatan satelit menjadi sebuah peta cuaca. Citra satelit cuaca dapat digunakan untuk mendeteksi pergerakan badai dan untuk keperluan prediksi cuaca.\n",
    "\n",
    "## Sejarah singkat Meteorologi\n",
    "Meteorologi adalah ilmu yang mempelajari atmosfer dan fenomena yang terjadi di dalamnya. Sejarah meteorologi dibandingkan dengan ilmu pengetahuan yang lain tergolong sudah panjang. Penggagas pertama ilmu ini adalah filsuf Yunani, Aristoteles yang telah menulis buku pada tahun 340 SM yang berjudul “METEOROLOGICA”. Buku ini menjelaskan kajian tentang fenomena awan, hujan, salju, angin, halilintar, badai dan sebagainya. Selain itu, buku tersebut juga membahas mengenai fenomena astronomi, kimia dan geografi. \n",
    "Meteorologi berasal dari bahasa Yunani “METEOROS” dan “LOGOS”. Meteoros dalam bahasa yunani berarti “jauh di atas langit”. Logos berarti ilmu pengetahuan. Di dalam buku tersebut, meskipun masih secara spekulatif dan menggunakan cara pandang filosofis, Aristoteles sudah berusaha menjelaskan mengenai fenomena alam yang terjadi di Atmosfer. Selanjutnya salah seorang murid beliau yang bernama Theophratus mengembangkan kajian Aristoteles dengan berusaha membuat sebuah prakiraan cuaca berdasarkan informasi yang diperoleh hasil mengamati karakteristik dan tanda-tanda alam. Kajian Theophratus kemudian dituliskan dalam sebuah buku yang berjudul “BOOK OF SIGNS”. Meskipun kajian di dalam buku tersebut masih sangat sederhana, namun konsep berfikir Aristoteles dan Theophratus telah mempengaruhi perkembangan ilmu meteorologi selanjutnya.\n",
    "\n",
    "Perkembangan selanjutnya ilmu meteorologi semakin pesat, seiring dengan ditemukannya peralatan yang dapat digunakan untuk pengukuran cuaca dimulai sejak tahun 1500-an. Dimulai dari penemuan thermometer oleh Astronom Italia, Galilleo dan penemuan barometer air raksa oleh Torricelli, salah seorang murid Galilleo. Selanjutnya pada tahun 1650-an fisikawan Perancis, Blaise Pascal dan Rene Descartes berhasil menggunakan barometer untuk mendapatkan fenomena bahwa tekanan udara akan berkurang seiring dengan ketinggian dari permukaan bumi. Tahun 1667, fisiwan Inggris, Robert Hook menggunakan batang logam yang berotasi untuk mengukur kecepatan angin (anemometer). Pada kurun waktu tahun 1700-an berturut turut fisikawan Jerman, Gabriel Daniel Fahrenheit, meteorologi Swedia Anders Celsius dan Presiden Amerika serikat Benjamin Franklin, mengembangkan pengukuran temperature dan mendefinisikan skala pengukuran temperature. Tahun 1780, Horace deSaussure ahli geologi dari Swiss membuat hygrometer rambut untuk mengukur kelembaban. Kemajuan instrument elektronika pada tahun 1900-an membuat alat-alat ukur analog berubah menjadi digital. Selain itu perkembangan teknologi komputasi dan teori fisika menyebabkan meteorologi turut berkembang secara signifikan. Tahun 1960, satelit meteorologi pertama, Tiros-1 diluncurkan dan dimulailah era pengukuran meteorologi menggunakan satelit."
   ]
  },
  {
   "cell_type": "code",
   "execution_count": null,
   "metadata": {},
   "outputs": [],
   "source": []
  }
 ],
 "metadata": {
  "kernelspec": {
   "display_name": "Python 3",
   "language": "python",
   "name": "python3"
  },
  "language_info": {
   "codemirror_mode": {
    "name": "ipython",
    "version": 3
   },
   "file_extension": ".py",
   "mimetype": "text/x-python",
   "name": "python",
   "nbconvert_exporter": "python",
   "pygments_lexer": "ipython3",
   "version": "3.7.0"
  }
 },
 "nbformat": 4,
 "nbformat_minor": 2
}
